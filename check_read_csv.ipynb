{
 "cells": [
  {
   "cell_type": "code",
   "execution_count": null,
   "metadata": {},
   "outputs": [],
   "source": [
    "from passengers import Passengers, Line"
   ]
  },
  {
   "cell_type": "code",
   "execution_count": null,
   "metadata": {},
   "outputs": [],
   "source": [
    "lines = {}\n",
    "\n",
    "file_name = 'data/t091307.xlsx'\n",
    "line = '田園都市線'\n",
    "skip_rows = list(range(0, 11)) + list(range(12, 15))\n",
    "use_cols = list(range(1, 100))\n",
    "lines[line] = Line(file_name, line, skip_rows, use_cols)\n",
    "\n",
    "file_name = 'data/t091306.xlsx'\n",
    "line = '東横線'\n",
    "skip_rows = list(range(0, 12)) + list(range(13, 16))\n",
    "use_cols = list(range(1, 100))\n",
    "lines[line] = Line(file_name, line, skip_rows, use_cols)\n",
    "\n",
    "file_name = 'data/t091305.xlsx'\n",
    "line = '京浜急行線'\n",
    "skip_rows = list(range(0, 12)) + list(range(13, 16))\n",
    "use_cols = list(range(1, 100))\n",
    "lines[line] = Line(file_name, line, skip_rows, use_cols)\n",
    "\n",
    "file_name = 'data/t091304.xlsx'\n",
    "line = '相模鉄道線'\n",
    "skip_rows = list(range(0, 12)) + list(range(13, 16))\n",
    "use_cols = list(range(1, 100))\n",
    "lines[line] = Line(file_name, line, skip_rows, use_cols)\n",
    "\n",
    "file_name = 'data/t091303.xlsx'\n",
    "line = 'みなとみらい線'\n",
    "skip_rows = list(range(0, 11)) + list(range(12, 15))\n",
    "use_cols = list(range(1, 100))\n",
    "lines[line] = Line(file_name, line, skip_rows, use_cols)\n",
    "\n",
    "file_name = 'data/t091302.xlsx'\n",
    "line = '金沢シーサイドライン'\n",
    "skip_rows = list(range(0, 11)) + list(range(12, 15))\n",
    "use_cols = list(range(1, 100))\n",
    "lines[line] = Line(file_name, line, skip_rows, use_cols)\n",
    "\n",
    "file_name = 'data/t091203.xlsx'\n",
    "line = 'グリーンライン'\n",
    "skip_rows = list(range(0, 11)) + list(range(12, 15))\n",
    "use_cols = list(range(1, 100))\n",
    "lines[line] = Line(file_name, line, skip_rows, use_cols)\n",
    "\n",
    "file_name = 'data/t091202.xlsx'\n",
    "line = 'ブルーライン'\n",
    "skip_rows = list(range(0, 11)) + list(range(12, 15))\n",
    "use_cols = list(range(1, 100))\n",
    "lines[line] = Line(file_name, line, skip_rows, use_cols)\n",
    "\n",
    "ps = Passengers()\n",
    "for line in lines.values():\n",
    "    ps.read_csv(line=line)\n",
    "display(ps.passengers.head())"
   ]
  }
 ],
 "metadata": {
  "kernelspec": {
   "display_name": "Python 3",
   "language": "python",
   "name": "python3"
  },
  "language_info": {
   "codemirror_mode": {
    "name": "ipython",
    "version": 3
   },
   "file_extension": ".py",
   "mimetype": "text/x-python",
   "name": "python",
   "nbconvert_exporter": "python",
   "pygments_lexer": "ipython3",
   "version": "3.6.6"
  }
 },
 "nbformat": 4,
 "nbformat_minor": 2
}
