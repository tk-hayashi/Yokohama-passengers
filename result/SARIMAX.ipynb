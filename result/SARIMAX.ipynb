{
 "cells": [
  {
   "cell_type": "markdown",
   "metadata": {},
   "source": [
    "# SARIMAモデルによる乗客数の予測"
   ]
  },
  {
   "cell_type": "code",
   "execution_count": null,
   "metadata": {},
   "outputs": [],
   "source": [
    "from passengers import Passengers, Line\n",
    "import matplotlib.pyplot as plt\n",
    "import statsmodels.api as sm"
   ]
  },
  {
   "cell_type": "code",
   "execution_count": null,
   "metadata": {},
   "outputs": [],
   "source": [
    "file_name = 'data/t091307.xlsx'\n",
    "line = '田園都市線'\n",
    "skip_rows = list(range(0, 11)) + list(range(12, 15))\n",
    "use_cols = list(range(1, 100))\n",
    "denen = Line(file_name, line, skip_rows, use_cols)\n",
    "\n",
    "ps = Passengers(line=denen)\n",
    "display(ps.passengers.head())"
   ]
  },
  {
   "cell_type": "markdown",
   "metadata": {},
   "source": [
    "# データの確認"
   ]
  },
  {
   "cell_type": "markdown",
   "metadata": {},
   "source": [
    "## プロット"
   ]
  },
  {
   "cell_type": "code",
   "execution_count": null,
   "metadata": {},
   "outputs": [],
   "source": [
    "df = ps.passengers['総数']\n",
    "plt.figure(figsize=(16, 4))\n",
    "plt.plot(df)\n",
    "plt.show()"
   ]
  },
  {
   "cell_type": "code",
   "execution_count": null,
   "metadata": {},
   "outputs": [],
   "source": [
    "plt.figure(figsize=(16, 4))\n",
    "plt.plot(df.diff())\n",
    "plt.show()"
   ]
  },
  {
   "cell_type": "markdown",
   "metadata": {},
   "source": [
    "## 自己相関"
   ]
  },
  {
   "cell_type": "code",
   "execution_count": null,
   "metadata": {},
   "outputs": [],
   "source": [
    "fig = plt.figure(figsize=(12,8))\n",
    "ax1 = fig.add_subplot(211)\n",
    "fig = sm.graphics.tsa.plot_acf(df, lags=24, ax=ax1)\n",
    "ax2 = fig.add_subplot(212)\n",
    "fig = sm.graphics.tsa.plot_pacf(df, lags=24, ax=ax2)"
   ]
  },
  {
   "cell_type": "code",
   "execution_count": null,
   "metadata": {},
   "outputs": [],
   "source": [
    "df_diff = df.diff()\n",
    "df_diff = df_diff.dropna()\n",
    "\n",
    "fig = plt.figure(figsize=(12,8))\n",
    "ax1 = fig.add_subplot(211)\n",
    "fig = sm.graphics.tsa.plot_acf(df_diff, lags=24, ax=ax1)\n",
    "ax2 = fig.add_subplot(212)\n",
    "fig = sm.graphics.tsa.plot_pacf(df_diff, lags=24, ax=ax2)"
   ]
  },
  {
   "cell_type": "markdown",
   "metadata": {},
   "source": [
    "## 季節に分解"
   ]
  },
  {
   "cell_type": "code",
   "execution_count": null,
   "metadata": {},
   "outputs": [],
   "source": [
    "def check_decompose(df, freq):\n",
    "    res = sm.tsa.seasonal_decompose(df, freq=freq)\n",
    "    original = df \n",
    "    trend = res.trend \n",
    "    seasonal = res.seasonal\n",
    "    residual = res.resid\n",
    "    \n",
    "    plt.figure(figsize=(16, 8))\n",
    "    plt.subplot(411)\n",
    "    plt.plot(original)\n",
    "    plt.ylabel('Original')\n",
    "    \n",
    "    plt.subplot(412)\n",
    "    plt.plot(trend)\n",
    "    plt.ylabel('Trend')\n",
    "    \n",
    "    plt.subplot(413)\n",
    "    plt.plot(seasonal)\n",
    "    plt.ylabel('Seasonality')\n",
    "    \n",
    "    plt.subplot(414)\n",
    "    plt.plot(residual)\n",
    "    plt.ylabel('Residuals')\n",
    "\n",
    "    plt.tight_layout()\n",
    "    plt.show()"
   ]
  },
  {
   "cell_type": "code",
   "execution_count": null,
   "metadata": {},
   "outputs": [],
   "source": [
    "check_decompose(df, 12)"
   ]
  },
  {
   "cell_type": "code",
   "execution_count": null,
   "metadata": {},
   "outputs": [],
   "source": [
    "plt.figure(figsize=(16, 2))\n",
    "plt.plot(sm.tsa.seasonal_decompose(df, freq=12).seasonal)\n",
    "plt.ylabel('Seasonality')\n",
    "plt.xlim(['2015-01-01', '2016-01-01'])\n",
    "plt.show()"
   ]
  },
  {
   "cell_type": "code",
   "execution_count": null,
   "metadata": {},
   "outputs": [],
   "source": [
    "check_decompose(df, 6)"
   ]
  },
  {
   "cell_type": "markdown",
   "metadata": {},
   "source": [
    "# SARIMAモデル"
   ]
  },
  {
   "cell_type": "markdown",
   "metadata": {},
   "source": [
    "## 単位根過程の確認 "
   ]
  },
  {
   "cell_type": "code",
   "execution_count": null,
   "metadata": {},
   "outputs": [],
   "source": [
    "adf = sm.tsa.stattools.adfuller(df, regression=\"ct\")\n",
    "print(adf)\n",
    "\n",
    "adf_diff = sm.tsa.stattools.adfuller(df_diff, regression=\"ct\")\n",
    "print(adf_diff)"
   ]
  },
  {
   "cell_type": "markdown",
   "metadata": {},
   "source": [
    "## ARMAモデルのパラメータ設定"
   ]
  },
  {
   "cell_type": "code",
   "execution_count": null,
   "metadata": {},
   "outputs": [],
   "source": [
    "df_check = (df - sm.tsa.seasonal_decompose(df, freq=12).seasonal).diff().dropna()\n",
    "plt.plot(df_check)\n",
    "plt.show()"
   ]
  },
  {
   "cell_type": "code",
   "execution_count": null,
   "metadata": {},
   "outputs": [],
   "source": [
    "import warnings\n",
    "warnings.filterwarnings('ignore')\n",
    "\n",
    "res_selection = sm.tsa.arma_order_select_ic(df_check, ic='aic', trend='nc')\n",
    "print(res_selection)"
   ]
  },
  {
   "cell_type": "markdown",
   "metadata": {},
   "source": [
    "## SARIMAモデルに適用"
   ]
  },
  {
   "cell_type": "code",
   "execution_count": null,
   "metadata": {},
   "outputs": [],
   "source": [
    "df_train = df[df.index < '2017-04-01']\n",
    "df_test = df[df.index  >= '2017-04-01']\n",
    "\n",
    "sarimax = sm.tsa.SARIMAX(df_train, \n",
    "                        order=(2, 1, 2),\n",
    "                        seasonal_order=(1, 1, 1, 12),\n",
    "                        enforce_stationarity = False,\n",
    "                        enforce_invertibility = False\n",
    "                        ).fit()"
   ]
  },
  {
   "cell_type": "code",
   "execution_count": null,
   "metadata": {},
   "outputs": [],
   "source": [
    "sarimax_fore = sarimax.forecast(len(df_test) + 13) "
   ]
  },
  {
   "cell_type": "code",
   "execution_count": null,
   "metadata": {},
   "outputs": [],
   "source": [
    "sarimax_ci = sarimax.get_forecast(len(df_test) + 13).conf_int()"
   ]
  },
  {
   "cell_type": "code",
   "execution_count": null,
   "metadata": {},
   "outputs": [],
   "source": [
    "plt.figure(figsize=(16, 4))\n",
    "\n",
    "plt.plot(df, label=\"original\")\n",
    "plt.plot(sarimax_fore, label=\"sarimax-forecast\")\n",
    "plt.fill_between(sarimax_ci.index, sarimax_ci['lower 総数'], sarimax_ci['upper 総数'],facecolor='y',alpha=0.2)\n",
    "plt.legend(loc='best')\n",
    "plt.show()"
   ]
  },
  {
   "cell_type": "code",
   "execution_count": null,
   "metadata": {},
   "outputs": [],
   "source": [
    "resid = sarimax.resid\n",
    "fig = plt.figure(figsize=(12,8))\n",
    "ax1 = fig.add_subplot(211)\n",
    "fig = sm.graphics.tsa.plot_acf(resid, lags=24, ax=ax1)\n",
    "ax2 = fig.add_subplot(212)\n",
    "fig = sm.graphics.tsa.plot_pacf(resid, lags=24, ax=ax2)"
   ]
  }
 ],
 "metadata": {
  "kernelspec": {
   "display_name": "Python 3",
   "language": "python",
   "name": "python3"
  },
  "language_info": {
   "codemirror_mode": {
    "name": "ipython",
    "version": 3
   },
   "file_extension": ".py",
   "mimetype": "text/x-python",
   "name": "python",
   "nbconvert_exporter": "python",
   "pygments_lexer": "ipython3",
   "version": "3.6.6"
  }
 },
 "nbformat": 4,
 "nbformat_minor": 2
}
