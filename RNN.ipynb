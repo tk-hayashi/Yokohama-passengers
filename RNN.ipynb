{
 "cells": [
  {
   "cell_type": "markdown",
   "metadata": {},
   "source": [
    "# RNNによる乗客数の予測"
   ]
  },
  {
   "cell_type": "code",
   "execution_count": null,
   "metadata": {},
   "outputs": [],
   "source": [
    "from passengers import Passengers, Line\n",
    "import matplotlib.pyplot as plt\n",
    "import pandas as pd\n",
    "import numpy as np\n",
    "from keras.models import Sequential\n",
    "from keras.layers.core import Dense, Activation\n",
    "from keras.layers.recurrent import SimpleRNN, LSTM, GRU\n",
    "from keras.optimizers import Adam\n",
    "from keras.callbacks import EarlyStopping\n",
    "from sklearn.model_selection import train_test_split\n",
    "from sklearn.utils import shuffle"
   ]
  },
  {
   "cell_type": "code",
   "execution_count": null,
   "metadata": {},
   "outputs": [],
   "source": [
    "file_name = 'data/t091307.xlsx'\n",
    "line = '田園都市線'\n",
    "skip_rows = list(range(0, 11)) + list(range(12, 15))\n",
    "use_cols = list(range(1, 100))\n",
    "denen = Line(file_name, line, skip_rows, use_cols)\n",
    "\n",
    "ps = Passengers(line=denen)\n",
    "display(ps.passengers.head())"
   ]
  },
  {
   "cell_type": "markdown",
   "metadata": {},
   "source": [
    "# RNN"
   ]
  },
  {
   "cell_type": "code",
   "execution_count": null,
   "metadata": {},
   "outputs": [],
   "source": [
    "df = ps.passengers['総数']\n",
    "\n",
    "span = 12\n",
    "data = []\n",
    "target = []\n",
    "\n",
    "for i in range(len(df) - span):\n",
    "    data.append(df[i : i + span])\n",
    "    target.append(df[i + span])\n",
    "    \n",
    "X = np.array(data).reshape(len(data), span, 1)\n",
    "Y = np.array(target).reshape(len(data), 1)\n",
    "X = X/10000000\n",
    "Y = Y/10000000"
   ]
  },
  {
   "cell_type": "code",
   "execution_count": null,
   "metadata": {},
   "outputs": [],
   "source": [
    "X_train, X_test, Y_train, Y_test = train_test_split(X, Y, test_size=0.1)\n",
    "X_train, X_validation, Y_train, Y_validation = train_test_split(X_train, Y_train, test_size=0.1)"
   ]
  },
  {
   "cell_type": "code",
   "execution_count": null,
   "metadata": {},
   "outputs": [],
   "source": [
    "n_in = len(X[0][0]) \n",
    "n_hidden = 10\n",
    "n_out = len(Y[0])\n",
    "\n",
    "def weight_variable(shape, name=None):\n",
    "    return np.random.normal(scale=.01, size=shape)\n",
    "\n",
    "early_stopping = EarlyStopping(monitor='val_loss', patience=10, verbose=1)\n",
    "\n",
    "model = Sequential()\n",
    "model.add(GRU(n_hidden,\n",
    "              input_shape=(span, n_in)\n",
    "             ))\n",
    "model.add(Dense(n_out))\n",
    "model.add(Activation('linear'))\n",
    "model.compile(loss = 'mean_squared_error', optimizer = 'adam')"
   ]
  },
  {
   "cell_type": "code",
   "execution_count": null,
   "metadata": {},
   "outputs": [],
   "source": [
    "epochs = 500\n",
    "batch_size = 6\n",
    "\n",
    "hist = model.fit(X_train, Y_train,\n",
    "                 batch_size=batch_size,\n",
    "                 epochs=epochs,\n",
    "                 validation_data=(X_validation, Y_validation),\n",
    "                 callbacks=[early_stopping])"
   ]
  },
  {
   "cell_type": "code",
   "execution_count": null,
   "metadata": {},
   "outputs": [],
   "source": [
    "def plot_history(history):\n",
    "    plt.plot(history.history['loss'],\"o-\",label=\"loss\",)\n",
    "    plt.plot(history.history['val_loss'],\"o-\",label=\"val_loss\")\n",
    "    plt.title('model loss')\n",
    "    plt.xlabel('epoch')\n",
    "    plt.ylabel('loss')\n",
    "    plt.legend(loc='lower right')\n",
    "    plt.show()\n",
    "\n",
    "plot_history(hist)  "
   ]
  },
  {
   "cell_type": "code",
   "execution_count": null,
   "metadata": {},
   "outputs": [],
   "source": [
    "def forecast(model, x, n, span):\n",
    "    model.reset_states()\n",
    "    Y = []\n",
    "    x_tmp = x\n",
    "    for i in range(n):\n",
    "        x_tmp = x_tmp.reshape(1, span, 1)\n",
    "        y = model.predict(x_tmp)\n",
    "        Y.append(y)\n",
    "\n",
    "        x_tmp = x_tmp.reshape(span, 1)\n",
    "        x_tmp = np.vstack((x_tmp, y))\n",
    "        x_tmp = np.delete(x_tmp, 0, 0)\n",
    "        \n",
    "    model.reset_states()\n",
    "    return Y"
   ]
  },
  {
   "cell_type": "code",
   "execution_count": null,
   "metadata": {},
   "outputs": [],
   "source": [
    "Y_pred = forecast(model, X_test[0], len(X_test), span)"
   ]
  },
  {
   "cell_type": "code",
   "execution_count": null,
   "metadata": {},
   "outputs": [],
   "source": [
    "Y_test_pred = model.predict(X_test)"
   ]
  },
  {
   "cell_type": "code",
   "execution_count": null,
   "metadata": {},
   "outputs": [],
   "source": [
    "plt.figure(figsize=(16, 4))\n",
    "plt.plot(Y_test, label='original')\n",
    "plt.plot(np.array([Y_pred]).reshape(len(Y_pred),1), label='forecast')\n",
    "plt.plot(Y_test_pred, label='predict')\n",
    "plt.legend(loc='best')\n",
    "plt.show()"
   ]
  },
  {
   "cell_type": "markdown",
   "metadata": {},
   "source": [
    "* うまくいっていないが時間がないので、後で確認"
   ]
  }
 ],
 "metadata": {
  "kernelspec": {
   "display_name": "Python 3",
   "language": "python",
   "name": "python3"
  },
  "language_info": {
   "codemirror_mode": {
    "name": "ipython",
    "version": 3
   },
   "file_extension": ".py",
   "mimetype": "text/x-python",
   "name": "python",
   "nbconvert_exporter": "python",
   "pygments_lexer": "ipython3",
   "version": "3.6.6"
  }
 },
 "nbformat": 4,
 "nbformat_minor": 2
}
